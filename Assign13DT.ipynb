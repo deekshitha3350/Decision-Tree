{
  "nbformat": 4,
  "nbformat_minor": 0,
  "metadata": {
    "colab": {
      "provenance": []
    },
    "kernelspec": {
      "name": "python3",
      "display_name": "Python 3"
    },
    "language_info": {
      "name": "python"
    }
  },
  "cells": [
    {
      "cell_type": "code",
      "execution_count": 4,
      "metadata": {
        "colab": {
          "base_uri": "https://localhost:8080/"
        },
        "id": "7qVteswwnT6h",
        "outputId": "1a7505a7-ca00-41c8-b00a-b9cf9a54a20d"
      },
      "outputs": [
        {
          "output_type": "stream",
          "name": "stdout",
          "text": [
            "        age                                       Age in years\n",
            "0    Gender                       Gender ; Male - 1, Female -0\n",
            "1        cp                                    Chest pain type\n",
            "2  trestbps                             Resting blood pressure\n",
            "3      chol                                cholesterol measure\n",
            "4       fbs  (fasting blood sugar > 120 mg/dl) (1 = true; 0...\n",
            "<class 'pandas.core.frame.DataFrame'>\n",
            "RangeIndex: 12 entries, 0 to 11\n",
            "Data columns (total 2 columns):\n",
            " #   Column        Non-Null Count  Dtype \n",
            "---  ------        --------------  ----- \n",
            " 0   age           12 non-null     object\n",
            " 1   Age in years  12 non-null     object\n",
            "dtypes: object(2)\n",
            "memory usage: 320.0+ bytes\n",
            "None\n"
          ]
        }
      ],
      "source": [
        "import pandas as pd\n",
        "import numpy as np\n",
        "\n",
        "data = pd.read_excel(\"heart_disease.xlsx\")\n",
        "print(data.head())\n",
        "print(data.info())"
      ]
    },
    {
      "cell_type": "code",
      "source": [
        "print(data.isnull().sum())"
      ],
      "metadata": {
        "colab": {
          "base_uri": "https://localhost:8080/"
        },
        "id": "PbDoLijRoj3l",
        "outputId": "7135625a-d087-4093-994d-bfc19ad04a05"
      },
      "execution_count": 5,
      "outputs": [
        {
          "output_type": "stream",
          "name": "stdout",
          "text": [
            "age             0\n",
            "Age in years    0\n",
            "dtype: int64\n"
          ]
        }
      ]
    },
    {
      "cell_type": "code",
      "source": [
        "import matplotlib.pyplot as plt\n",
        "import seaborn as sns\n",
        "\n",
        "numerical_features = data.select_dtypes(include=[\"float64\", \"int64\"]).columns\n",
        "for feature in numerical_features:\n",
        "    plt.figure(figsize=(8, 4))\n",
        "    sns.boxplot(data[feature])\n",
        "    plt.title(f'Boxplot for {feature}')\n",
        "    plt.show()"
      ],
      "metadata": {
        "id": "5PoCmAG9pYuz"
      },
      "execution_count": 6,
      "outputs": []
    },
    {
      "cell_type": "code",
      "source": [
        "for feature in numerical_features:\n",
        "    plt.figure(figsize=(8, 4))\n",
        "    sns.histplot(data[feature], kde=True)\n",
        "    plt.title(f'Histogram for {feature}')\n",
        "    plt.show()"
      ],
      "metadata": {
        "id": "uLSk9xe1pl9q"
      },
      "execution_count": 7,
      "outputs": []
    },
    {
      "cell_type": "code",
      "source": [
        "import pandas as pd\n",
        "import numpy as np\n",
        "import seaborn as sns\n",
        "import matplotlib.pyplot as plt\n",
        "\n",
        "corr_matrix = data.select_dtypes(include=['number']).corr()\n",
        "\n",
        "if corr_matrix.empty:\n",
        "    print(\"Error: Correlation matrix is empty. Check your data for numerical columns.\")\n",
        "else:\n",
        "\n",
        "    if np.isnan(corr_matrix.values).all():\n",
        "        print(\"Error: All values in the correlation matrix are NaN. Check your data for numerical values.\")\n",
        "    else:\n",
        "        sns.heatmap(corr_matrix, annot=True, cmap=\"coolwarm\")\n",
        "        plt.title(\"Correlation Matrix\")\n",
        "        plt.show()"
      ],
      "metadata": {
        "colab": {
          "base_uri": "https://localhost:8080/"
        },
        "id": "d40bCk3upoBc",
        "outputId": "f7429c9c-e63a-46c6-ea9d-1160021707c9"
      },
      "execution_count": 11,
      "outputs": [
        {
          "output_type": "stream",
          "name": "stdout",
          "text": [
            "Error: Correlation matrix is empty. Check your data for numerical columns.\n"
          ]
        }
      ]
    }
  ]
}